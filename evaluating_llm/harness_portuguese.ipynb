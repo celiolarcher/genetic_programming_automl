{
  "cells": [
    {
      "cell_type": "markdown",
      "metadata": {
        "id": "view-in-github",
        "colab_type": "text"
      },
      "source": [
        "<a href=\"https://colab.research.google.com/github/celiolarcher/knowledge_repository/blob/main/evaluating_llm/harness_portuguese.ipynb\" target=\"_parent\"><img src=\"https://colab.research.google.com/assets/colab-badge.svg\" alt=\"Open In Colab\"/></a>"
      ]
    },
    {
      "cell_type": "markdown",
      "metadata": {
        "id": "U8PyA70VBsbD"
      },
      "source": [
        "## Config"
      ]
    },
    {
      "cell_type": "code",
      "execution_count": null,
      "metadata": {
        "id": "nUbMyF1a-xxg"
      },
      "outputs": [],
      "source": [
        "!git clone https://github.com/22-hours/lm-evaluation-harness-portuguese.git"
      ]
    },
    {
      "cell_type": "code",
      "execution_count": null,
      "metadata": {
        "id": "Lu0ooNCT-6Wm"
      },
      "outputs": [],
      "source": [
        "!pip install -e lm-evaluation-harness-portuguese"
      ]
    },
    {
      "cell_type": "code",
      "execution_count": null,
      "metadata": {
        "id": "brExaesrHwbP"
      },
      "outputs": [],
      "source": [
        "!pip install SentencePiece accelerate bitsandbytes"
      ]
    },
    {
      "cell_type": "code",
      "execution_count": null,
      "metadata": {
        "id": "RL4l3_4C_gK2"
      },
      "outputs": [],
      "source": [
        "from huggingface_hub import login\n",
        "#login() ##Get TOKEN"
      ]
    },
    {
      "cell_type": "markdown",
      "source": [
        "## Run EVAL"
      ],
      "metadata": {
        "id": "i9Nk6mWB6DTP"
      }
    },
    {
      "cell_type": "code",
      "source": [
        "from google.colab import drive\n",
        "drive.mount('/content/drive/')"
      ],
      "metadata": {
        "id": "1fmrKx-p3Atz"
      },
      "execution_count": null,
      "outputs": []
    },
    {
      "cell_type": "code",
      "source": [
        "model_name = \"22h/open-cabrita3b\"\n",
        "model_args = \",low_cpu_mem_usage=True,dtype=float32\"\n",
        "batch_size = 1\n",
        "task = \"portuguese_benchmark\"\n",
        "\n",
        "output_path = f\"'/content/drive/My Drive/EXPs/{model_name.replace('/','_')}{model_args}_output/'\""
      ],
      "metadata": {
        "id": "ZzSnscUbv_W9"
      },
      "execution_count": null,
      "outputs": []
    },
    {
      "cell_type": "code",
      "source": [
        "!python lm-evaluation-harness-portuguese/lm_eval \\\n",
        "  --model_args pretrained={model_name}{model_args} --batch_size {batch_size}\\\n",
        "  --device cuda:0\\\n",
        "  --tasks {task}\\\n",
        "  --log_samples --output_path {output_path}"
      ],
      "metadata": {
        "id": "CHtlGHR7vdgX"
      },
      "execution_count": null,
      "outputs": []
    },
    {
      "cell_type": "code",
      "source": [],
      "metadata": {
        "id": "WJOrWwKo6W26"
      },
      "execution_count": null,
      "outputs": []
    }
  ],
  "metadata": {
    "accelerator": "GPU",
    "colab": {
      "machine_shape": "hm",
      "provenance": [],
      "gpuType": "V100",
      "collapsed_sections": [
        "U8PyA70VBsbD"
      ],
      "authorship_tag": "ABX9TyOrFiNmAZVRvx7SgfTtwqEp",
      "include_colab_link": true
    },
    "kernelspec": {
      "display_name": "Python 3",
      "name": "python3"
    },
    "language_info": {
      "name": "python"
    }
  },
  "nbformat": 4,
  "nbformat_minor": 0
}